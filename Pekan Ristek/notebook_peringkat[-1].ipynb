{
 "cells": [
  {
   "cell_type": "markdown",
   "id": "lME_Fkn-D2Vc",
   "metadata": {
    "id": "lME_Fkn-D2Vc"
   },
   "source": [
    "Import Library"
   ]
  },
  {
   "cell_type": "code",
   "execution_count": null,
   "id": "ba30f0d8",
   "metadata": {
    "id": "ba30f0d8"
   },
   "outputs": [],
   "source": [
    "from sklearn.model_selection import train_test_split\n",
    "from sklearn.metrics import mean_absolute_error, mean_squared_error as mse , r2_score\n",
    "from sklearn.metrics import accuracy_score, f1_score, recall_score, precision_score\n",
    "from sklearn.tree import DecisionTreeRegressor, DecisionTreeClassifier\n",
    "from sklearn.ensemble import RandomForestRegressor, RandomForestClassifier\n",
    "from sklearn.model_selection import GridSearchCV, RandomizedSearchCV\n",
    "from sklearn.model_selection import cross_val_score as cvs, cross_val_predict as cvp\n",
    "from catboost import CatBoostRegressor, CatBoostClassifier, Pool\n",
    "from sklearn.impute import KNNImputer\n",
    "from sklearn import ensemble, linear_model\n",
    "from sklearn.preprocessing import StandardScaler, MinMaxScaler, RobustScaler\n",
    "from scipy.stats.mstats import winsorize\n",
    "from scipy.optimize import minimize\n",
    "import xgboost as xgb\n",
    "import lightgbm as lgbm\n",
    "import catboost as cb\n",
    "from sklearn import tree\n",
    "import matplotlib.pyplot as plt\n",
    "import numpy as np\n",
    "import pandas as pd\n",
    "import seaborn as sns\n",
    "import time"
   ]
  },
  {
   "cell_type": "markdown",
   "id": "8IgMlfaJD7SQ",
   "metadata": {
    "id": "8IgMlfaJD7SQ"
   },
   "source": [
    "Import File"
   ]
  },
  {
   "cell_type": "code",
   "execution_count": null,
   "id": "5337d2a6",
   "metadata": {
    "id": "5337d2a6"
   },
   "outputs": [],
   "source": [
    "train = pd.read_csv('train.csv')\n",
    "test = pd.read_csv('test.csv', index_col='index')"
   ]
  },
  {
   "cell_type": "markdown",
   "id": "bkYmmthPBKMF",
   "metadata": {
    "id": "bkYmmthPBKMF"
   },
   "source": [
    "Normal CatBoost"
   ]
  },
  {
   "cell_type": "code",
   "execution_count": null,
   "id": "d18587e9",
   "metadata": {
    "id": "d18587e9"
   },
   "outputs": [],
   "source": [
    "features = ['type','distance_mean','distance_max', 'distance_min','surge_max','surge_mean','surge_min', 'api_calls']\n",
    "X,y = train[features], train.price_mean"
   ]
  },
  {
   "cell_type": "code",
   "execution_count": null,
   "id": "ZAq5fXrdtqf_",
   "metadata": {
    "id": "ZAq5fXrdtqf_"
   },
   "outputs": [],
   "source": [
    "feature_weights = [3.0, 1.5, 1.08, 1.005, 1.0, 1.03, 1.2]"
   ]
  },
  {
   "cell_type": "code",
   "execution_count": null,
   "id": "P03x4yIcA7yx",
   "metadata": {
    "id": "P03x4yIcA7yx"
   },
   "outputs": [],
   "source": [
    "X_train, X_test, y_train, y_test = train_test_split(X, y, test_size=0.2, random_state=42)"
   ]
  },
  {
   "cell_type": "code",
   "execution_count": null,
   "id": "nRc10a8ftswx",
   "metadata": {
    "id": "nRc10a8ftswx"
   },
   "outputs": [],
   "source": [
    "model = CatBoostRegressor(\n",
    "    iterations=1500,\n",
    "    learning_rate=0.0993,\n",
    "    loss_function='RMSE',\n",
    "    feature_weights=feature_weights,\n",
    "    random_seed= 42,\n",
    "    depth= 7\n",
    ")\n",
    "model.fit(X_train, y_train, eval_set=(X_test, y_test), early_stopping_rounds=70, verbose=100)"
   ]
  },
  {
   "cell_type": "markdown",
   "id": "7G-wVVdhBQBo",
   "metadata": {
    "id": "7G-wVVdhBQBo"
   },
   "source": [
    "Optuna Model"
   ]
  },
  {
   "cell_type": "code",
   "execution_count": null,
   "id": "848629a5",
   "metadata": {
    "id": "848629a5"
   },
   "outputs": [],
   "source": [
    "model.fit((train[features]), train.price_mean)\n",
    "pred = model.predict(test[features])\n",
    "submission = pd.DataFrame({\n",
    "    'index': test.index,\n",
    "    'price_mean': pred\n",
    "}).set_index('index')\n",
    "\n",
    "submission.to_csv('submission.csv', index=True)\n"
   ]
  }
 ],
 "metadata": {
  "colab": {
   "provenance": []
  },
  "kernelspec": {
   "display_name": "Python 3",
   "language": "python",
   "name": "python3"
  },
  "language_info": {
   "codemirror_mode": {
    "name": "ipython",
    "version": 3
   },
   "file_extension": ".py",
   "mimetype": "text/x-python",
   "name": "python",
   "nbconvert_exporter": "python",
   "pygments_lexer": "ipython3",
   "version": "3.10.12"
  },
  "papermill": {
   "default_parameters": {},
   "duration": 17.182168,
   "end_time": "2023-11-09T04:16:01.233303",
   "environment_variables": {},
   "exception": null,
   "input_path": "__notebook__.ipynb",
   "output_path": "__notebook__.ipynb",
   "parameters": {},
   "start_time": "2023-11-09T04:15:44.051135",
   "version": "2.4.0"
  }
 },
 "nbformat": 4,
 "nbformat_minor": 5
}
