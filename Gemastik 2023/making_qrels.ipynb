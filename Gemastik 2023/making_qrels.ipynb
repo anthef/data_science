{
 "cells": [
  {
   "cell_type": "code",
   "execution_count": 2,
   "metadata": {},
   "outputs": [
    {
     "name": "stdout",
     "output_type": "stream",
     "text": [
      "CSV file 'dataset.csv' has been created successfully.\n"
     ]
    }
   ],
   "source": [
    "import csv\n",
    "\n",
    "num_qid = 505\n",
    "num_product_id = 101\n",
    "\n",
    "data = []\n",
    "for product_id in range(num_product_id):\n",
    "    for qid in range(num_qid):\n",
    "        data.append([qid, product_id])\n",
    "\n",
    "with open('qrels.csv', mode='w', newline='') as file:\n",
    "    writer = csv.writer(file)\n",
    "    writer.writerow(['qid', 'product_id','label'])  \n",
    "    writer.writerows(data)\n",
    "\n",
    "print(\"CSV file 'dataset.csv' has been created successfully.\")"
   ]
  },
  {
   "cell_type": "code",
   "execution_count": 4,
   "metadata": {},
   "outputs": [],
   "source": [
    "import pandas as pd\n",
    "import re\n",
    "\n",
    "query = pd.read_excel('query.xlsx')\n",
    "\n",
    "def remove_parentheses(text):\n",
    "    return re.sub(r' \\(\\d+\\)$', '', text)\n",
    "\n",
    "query['query'] = query['query'].apply(remove_parentheses)\n",
    "\n",
    "query.to_excel('query_right.xlsx', index=False)\n",
    "\n"
   ]
  },
  {
   "cell_type": "code",
   "execution_count": 5,
   "metadata": {},
   "outputs": [],
   "source": [
    "product = pd.read_excel(\"product.xlsx\")\n",
    "product.to_csv(\"product.csv\", sep='\\t')"
   ]
  }
 ],
 "metadata": {
  "kernelspec": {
   "display_name": "Python 3",
   "language": "python",
   "name": "python3"
  },
  "language_info": {
   "codemirror_mode": {
    "name": "ipython",
    "version": 3
   },
   "file_extension": ".py",
   "mimetype": "text/x-python",
   "name": "python",
   "nbconvert_exporter": "python",
   "pygments_lexer": "ipython3",
   "version": "3.12.0"
  }
 },
 "nbformat": 4,
 "nbformat_minor": 2
}
